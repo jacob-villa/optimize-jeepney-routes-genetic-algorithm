{
 "cells": [
  {
   "cell_type": "markdown",
   "metadata": {},
   "source": [
    "# City Zone Creation"
   ]
  },
  {
   "cell_type": "markdown",
   "metadata": {},
   "source": [
    "## Zone Network Functions"
   ]
  },
  {
   "cell_type": "markdown",
   "metadata": {},
   "source": [
    "### Setting Up"
   ]
  },
  {
   "cell_type": "code",
   "execution_count": 2,
   "metadata": {},
   "outputs": [],
   "source": [
    "import pandas as pd\n",
    "import numpy as np\n",
    "import matplotlib.pyplot as plt\n",
    "import geopandas as gpd\n",
    "import networkx as nx\n",
    "import shapely\n",
    "import folium\n",
    "import geojson\n",
    "import math\n",
    "import osmnx as ox\n",
    "from rtree import index as rtree_index\n",
    "import pickle\n",
    "import copy\n",
    "\n",
    "from shapely.ops import unary_union\n",
    "from shapely.geometry import Polygon, MultiPolygon, LineString, Point\n",
    "from geopy.distance import geodesic\n",
    "from shapely import wkt\n",
    "\n",
    "from __future__ import absolute_import, division\n",
    "from math import radians, sin, cos, sqrt, atan2, exp, log\n",
    "import webbrowser\n",
    "import random\n",
    "from scipy.spatial import KDTree\n",
    "from scipy.spatial.distance import euclidean\n",
    "\n",
    "ox.settings.log_console=True\n",
    "ox.settings.use_cache=True"
   ]
  },
  {
   "cell_type": "code",
   "execution_count": 3,
   "metadata": {},
   "outputs": [],
   "source": [
    "# For units\n",
    "def degrees_to_meters(angle_degrees):\n",
    "    return angle_degrees * 6371000 * math.pi / 180\n",
    "\n",
    "def meters_to_degrees(distance_meters):\n",
    "    return distance_meters / 6371000 * 180 / math.pi"
   ]
  },
  {
   "cell_type": "code",
   "execution_count": 4,
   "metadata": {},
   "outputs": [],
   "source": [
    "# Import and Export networks or graphs to pickle\n",
    "def export_networks(networks, path):\n",
    "    with open(path, 'wb') as f:\n",
    "        pickle.dump(networks, f)\n",
    "\n",
    "def import_networks(path):\n",
    "    with open(path, 'rb') as f:\n",
    "        routes = pickle.load(f)\n",
    "    return routes"
   ]
  },
  {
   "cell_type": "markdown",
   "metadata": {},
   "source": [
    "#### Graph and Features"
   ]
  },
  {
   "cell_type": "code",
   "execution_count": 5,
   "metadata": {},
   "outputs": [
    {
     "name": "stdout",
     "output_type": "stream",
     "text": [
      "Graph loaded successfully\n",
      "NUMBER OF EDGES:  2374\n",
      "NUMBER OF NODES:  989\n",
      "\n",
      "\n"
     ]
    }
   ],
   "source": [
    "# NOTE: SELECT THE CITY HERE, COMMENT OUT THE REMAINING CITIES\n",
    "# select_city = \"Manila, Philippines\"\n",
    "# city_file = 'map/Manila.graphml'\n",
    "\n",
    "# select_city = \"Makati, Philippines\"\n",
    "# city_file = 'map/Makati.graphml'\n",
    "\n",
    "select_city = \"Mandaluyong, Philippines\"\n",
    "city_file = 'map/Mandaluyong.graphml'\n",
    "\n",
    "\n",
    "# GENERATION OF MAIN CITY GRAPH\n",
    "# IF FIRST TIME RUNNING, RUN THIS CODE TO GENERATE THE GRAPH\n",
    "def generate_graph():\n",
    "    mode = 'drive'\n",
    "    graph = ox.graph_from_place(select_city, network_type = mode) # Generate graph of Metro manila\n",
    "    ox.save_graphml(graph, city_file) # Save it as a file\n",
    "\n",
    "def load_graph():\n",
    "    graph = ox.load_graphml(city_file)\n",
    "    \n",
    "    print(\"Graph loaded successfully\")\n",
    "    print(\"NUMBER OF EDGES: \", graph.number_of_edges())\n",
    "    print(\"NUMBER OF NODES: \", graph.number_of_nodes())\n",
    "    print('\\n')\n",
    "    return graph\n",
    "\n",
    "# NOTE: Only run this if you do not have the graph\n",
    "generate_graph()\n",
    "\n",
    "# THIS IS THE MAIN GRAPH FOR THE CITY TO BE USED FOR ALL FUNCTIONS\n",
    "CITY_GRAPH = load_graph()"
   ]
  },
  {
   "cell_type": "code",
   "execution_count": 6,
   "metadata": {},
   "outputs": [],
   "source": [
    "### For Filtering the roads and other features\n",
    "# GETTING ROADS AND WATERWAYS\n",
    "\n",
    "# Get all the roads in Manila\n",
    "road = ox.graph_to_gdfs(CITY_GRAPH,nodes=False, edges=True)\n",
    "\n",
    "\n",
    "# Get all the roads that are not junctions (ex. Roundabouts, intersection, etc.)\n",
    "filtered_roads = road[road['junction'].isna()]\n",
    "\n",
    "# Separate roads whose widths are only one value and those that are more than 1 (lists)\n",
    "rows_with_lists = filtered_roads[filtered_roads['highway'].apply(lambda x: isinstance(x, list))]\n",
    "rows_with_strings = filtered_roads[filtered_roads['highway'].apply(lambda x: isinstance(x, str))]\n",
    "\n",
    "filter_options = ['primary', 'secondary', 'tertiary', 'trunk', 'unclassified']\n",
    "separation_options = ['primary', 'secondary', 'tertiary', 'unclassified']\n",
    "\n",
    "# Get the roads whose widths are above the threshold\n",
    "def check_list(lst):\n",
    "    return any(x in filter_options for x in lst)\n",
    "\n",
    "# Download OpenStreetMap data for the area of interest\n",
    "waterways = ox.features_from_place(select_city, tags={'waterway': True})\n",
    "filtered_rivers = waterways[waterways['waterway'].isin(['river'])]\n",
    "filtered_streams = waterways[waterways['waterway'].isin(['stream'])]\n",
    "\n",
    "# Get all the roads with the allowed road types\n",
    "filtered_roads_strings = rows_with_strings.loc[rows_with_strings['highway'].isin(filter_options)] \n",
    "filtered_roads_lists = rows_with_lists[rows_with_lists['highway'].apply(check_list)]"
   ]
  },
  {
   "cell_type": "code",
   "execution_count": 7,
   "metadata": {},
   "outputs": [],
   "source": [
    "# This function will find which road or river intersects between amenities\n",
    "# Create spatial index\n",
    "filtered_roads_strings_sindex = filtered_roads_strings.sindex\n",
    "filtered_roads_lists_sindex = filtered_roads_lists.sindex\n",
    "filtered_rivers_sindex = filtered_rivers.sindex\n",
    "filtered_streams_sindex = filtered_streams.sindex\n",
    "\n",
    "def find_intersecting_features(line):\n",
    "    # Check intersection with filtered roads\n",
    "    possible_matches_roads = filtered_roads_strings.iloc[list(filtered_roads_strings_sindex.intersection(line.bounds))]\n",
    "    for index, row in possible_matches_roads.iterrows():\n",
    "        if line.intersects(row['geometry']) and row['highway'] in separation_options:\n",
    "            return True\n",
    "\n",
    "    possible_matches_lists = filtered_roads_lists.iloc[list(filtered_roads_lists_sindex.intersection(line.bounds))]\n",
    "    for index, row in possible_matches_lists.iterrows():\n",
    "        if line.intersects(row['geometry']):\n",
    "            list_highway = row['highway']\n",
    "            if any(x in separation_options for x in list_highway):\n",
    "                return True\n",
    "    \n",
    "    # Check intersection with filtered rivers\n",
    "    possible_matches_rivers = filtered_rivers.iloc[list(filtered_rivers_sindex.intersection(line.bounds))]\n",
    "    for index, row in possible_matches_rivers.iterrows():\n",
    "        if line.intersects(row['geometry']):\n",
    "            return True\n",
    "\n",
    "    # Check intersection with filtered streams\n",
    "    possible_matches_streams = filtered_streams.iloc[list(filtered_streams_sindex.intersection(line.bounds))]\n",
    "    for index, row in possible_matches_streams.iterrows():\n",
    "        if line.intersects(row['geometry']):\n",
    "            return True\n",
    "    \n",
    "    return False"
   ]
  },
  {
   "cell_type": "markdown",
   "metadata": {},
   "source": [
    "### Reading Data"
   ]
  },
  {
   "cell_type": "code",
   "execution_count": 8,
   "metadata": {},
   "outputs": [],
   "source": [
    "# MANILA POPULATION DATA\n",
    "# Reading population data\n",
    "manila_population_df = pd.read_csv('manila-population-polygon.csv')\n",
    "manila_population_df['geometry'] = manila_population_df['geometry'].apply(wkt.loads)\n",
    "manila_population_gdf = gpd.GeoDataFrame(manila_population_df, crs='epsg:3123')\n",
    "\n",
    "# Create a base map centered around Manila\n",
    "map_center = (14.599512, 120.984222) # TEMPORARY WILL ZOOM TO MANILA\n",
    "m = folium.Map(location=map_center, zoom_start=10, tiles='openstreetmap')\n",
    "\n",
    "# Add points to the map\n",
    "for index, row in manila_population_gdf.iterrows():\n",
    "    folium.CircleMarker(location=[row['latitude'], row['longitude']],\n",
    "                        radius=1,  # Adjust the radius as needed for population density representation\n",
    "                        color='blue',  # Change color as needed\n",
    "                        fill=True,\n",
    "                        fill_color='blue'  # Change fill color as needed\n",
    "                        ).add_to(m)\n",
    "    \n",
    "m.save('Population Maps/population_Manila.html') # Save the map to an HTML file"
   ]
  },
  {
   "cell_type": "code",
   "execution_count": 9,
   "metadata": {},
   "outputs": [],
   "source": [
    "# MAKATI POPULATION DATA\n",
    "# Reading population data\n",
    "makati_population_df = pd.read_csv('makati-population-polygon.csv')\n",
    "makati_population_df['geometry'] = makati_population_df['geometry'].apply(wkt.loads)\n",
    "makati_population_gdf = gpd.GeoDataFrame(makati_population_df, crs='epsg:3123')\n",
    "\n",
    "# Create a base map centered around Manila\n",
    "map_center = (14.599512, 120.984222) # TEMPORARY WILL ZOOM TO MANILA\n",
    "m = folium.Map(location=map_center, zoom_start=10, tiles='openstreetmap')\n",
    "\n",
    "# Add points to the map\n",
    "for index, row in makati_population_gdf.iterrows():\n",
    "    folium.CircleMarker(location=[row['latitude'], row['longitude']],\n",
    "                        radius=1,  # Adjust the radius as needed for population density representation\n",
    "                        color='blue',  # Change color as needed\n",
    "                        fill=True,\n",
    "                        fill_color='blue'  # Change fill color as needed\n",
    "                        ).add_to(m)\n",
    "    \n",
    "m.save('Population Maps/population_Makati.html') # Save the map to an HTML file"
   ]
  },
  {
   "cell_type": "code",
   "execution_count": 10,
   "metadata": {},
   "outputs": [],
   "source": [
    "# MANDALUYONG POPULATION DATA\n",
    "# Reading population data\n",
    "mandaluyong_population_df = pd.read_csv('mandaluyong-population-polygon.csv')\n",
    "mandaluyong_population_df['geometry'] = mandaluyong_population_df['geometry'].apply(wkt.loads)\n",
    "mandaluyong_population_gdf = gpd.GeoDataFrame(mandaluyong_population_df, crs='epsg:3123')\n",
    "\n",
    "# Create a base map centered around Manila\n",
    "map_center = (14.599512, 120.984222) # TEMPORARY WILL ZOOM TO MANILA\n",
    "m = folium.Map(location=map_center, zoom_start=10, tiles='openstreetmap')\n",
    "\n",
    "# Add points to the map\n",
    "for index, row in mandaluyong_population_gdf.iterrows():\n",
    "    folium.CircleMarker(location=[row['latitude'], row['longitude']],\n",
    "                        radius=1,  # Adjust the radius as needed for population density representation\n",
    "                        color='blue',  # Change color as needed\n",
    "                        fill=True,\n",
    "                        fill_color='blue'  # Change fill color as needed\n",
    "                        ).add_to(m)\n",
    "    \n",
    "m.save('Population Maps/population_Mandaluyong.html') # Save the map to an HTML file"
   ]
  },
  {
   "cell_type": "markdown",
   "metadata": {},
   "source": [
    "### Initial City Network Creation"
   ]
  },
  {
   "cell_type": "code",
   "execution_count": 11,
   "metadata": {},
   "outputs": [],
   "source": [
    "# Buckle up. We're trying to create a network out of this monstrosity of a dataframe\n",
    "# Create a networkx graph\n",
    "\n",
    "def create_network(amenities_polygon_gdf, amenities_point_gdf):\n",
    "    amenities_network = nx.Graph()\n",
    "\n",
    "   # Add polygon nodes\n",
    "    for index, row in amenities_polygon_gdf.iterrows():\n",
    "        # Check if essential columns exist in the row\n",
    "        if 'geometry' in row and 'amenity' in row and 'name' in row and 'addr_city' in row and 'amenity_points' in row:\n",
    "            # Generate a unique node identifier for polygons\n",
    "            node_id = f\"polygon_{index}\"\n",
    "            amenities_network.add_node(node_id, polygon_index=index, geometry=row['geometry'], lat=row['geometry'].centroid.y, lon=row['geometry'].centroid.x, amenity=row['amenity'], name=row.get('name', ''), addr_city=row['addr_city'], amenity_points=row['amenity_points'])\n",
    "        else:\n",
    "            print(f\"Skipping row {index} in amenities_polygon_gdf due to missing data.\")\n",
    "\n",
    "    # Add point nodes\n",
    "    for index, row in amenities_point_gdf.iterrows():\n",
    "        # Check if essential columns exist in the row\n",
    "        if 'geometry' in row and 'amenity' in row and 'name' in row and 'addr_city' in row:\n",
    "            # Generate a unique node identifier for points\n",
    "            node_id = f\"point_{index}\"\n",
    "            \n",
    "            # This part checks whether the point is a transportation or not \n",
    "            if row['amenity'] == 'transportation':\n",
    "                isTranspo = True\n",
    "            else:\n",
    "                isTranspo = False\n",
    "            amenities_network.add_node(node_id, point_index=index, geometry=row['geometry'], lat=row['y'], lon=row['x'], amenity=row['amenity'], name=row.get('name', ''), addr_city=row['addr_city'], is_in_polygon=False, isTranspo = isTranspo)\n",
    "        else:\n",
    "            print(f\"Skipping row {index} in amenities_point_gdf due to missing data.\")\n",
    "            \n",
    "    return amenities_network"
   ]
  },
  {
   "cell_type": "markdown",
   "metadata": {},
   "source": [
    "### For Amenity and Zone Connection"
   ]
  },
  {
   "cell_type": "code",
   "execution_count": 12,
   "metadata": {},
   "outputs": [],
   "source": [
    "# Before Level 1 - ONLY FOR Manila\n",
    "# To filter out the residential areas that do not exceed the threshold\n",
    "\n",
    "def filter_out_low_population_density_residentials(graph_to_filter, pop_graph):\n",
    "    filtered_graph = nx.Graph()\n",
    "    \n",
    "    for node_key, node_data in list(graph_to_filter.nodes.items()):\n",
    "        if 'geometry' in node_data and node_data['geometry'].geom_type in ['Polygon', 'MultiPolygon'] and node_data['amenity'] == \"residential areas\":\n",
    "            # Different Keyword\n",
    "            # is_a_zone - Will be added to the filtered graph as it means that the residential area has pop density above the threshold\n",
    "            if node_key in pop_graph and pop_graph.nodes[node_key]['is_a_zone']:\n",
    "                filtered_graph.add_node(node_key, **node_data)\n",
    "                \n",
    "        else: # If a point or any polygon taht is not residential area, add to the graph\n",
    "            if node_data['amenity'] != \"residential areas\":\n",
    "                filtered_graph.add_node(node_key, **node_data)\n",
    "    \n",
    "    # Should return a filtered graph\n",
    "    return filtered_graph"
   ]
  },
  {
   "cell_type": "code",
   "execution_count": 13,
   "metadata": {},
   "outputs": [],
   "source": [
    "# LEVEL 1 - COMBINE AMENITIES BY POLYGON\n",
    "# Creates a copy of a graph and connects non-contiguous and non-overlapping shapes instead of merging\n",
    "\n",
    "def combine_amenities_by_polygon(graph, max_distance, max_perimeter):\n",
    "    combined_graph = nx.Graph()\n",
    "    list_to_merge = []\n",
    "    idx = rtree_index.Index()\n",
    "    \n",
    "    # Iterates through each polygon and then enlarges and gets the intersecting ones for easier iteration later\n",
    "    for node_key, node_data in graph.nodes.items():\n",
    "        # Ensure that the bounding box coordinates are passed as a tuple\n",
    "        if 'geometry' in node_data and node_data['geometry'].geom_type in ['Polygon', 'MultiPolygon']:\n",
    "            enlarged_polygon = node_data['geometry'].buffer(meters_to_degrees(max_distance))\n",
    "            bounds = enlarged_polygon.bounds\n",
    "            bounds_float = tuple(float(coord) for coord in bounds)\n",
    "            numeric_key = int(node_key.split('_')[1])\n",
    "            idx.insert(numeric_key, bounds_float)\n",
    "    \n",
    "    #Iterating through each polygon\n",
    "    for node_key, node_data in list(graph.nodes.items()):\n",
    "        if 'geometry' in node_data and node_data['geometry'].geom_type in ['Polygon', 'MultiPolygon']:\n",
    "            nodes_to_merge = []\n",
    "            \n",
    "            #Check first if it is already in a list of polygons to be merged\n",
    "            for merge_list in list_to_merge:\n",
    "                if node_key in merge_list:\n",
    "                    nodes_to_merge = merge_list\n",
    "                    break\n",
    "            \n",
    "            # If this is a new node that is not part of any list, add itself to the list for merging later\n",
    "            if not nodes_to_merge:\n",
    "                nodes_to_merge.append(node_key)\n",
    "            \n",
    "            # Distance \n",
    "            total_distance = 0 # This is to calculate the total distance\n",
    "            combined_node = graph.nodes[node_key]['geometry']\n",
    "            \n",
    "            # Then iterate through other polygons that intersect that polygon based on bounds\n",
    "            for other_node_key in idx.intersection(node_data['geometry'].bounds):\n",
    "                formatted_key = f\"polygon_{other_node_key}\"\n",
    "                other_node_data = graph.nodes[formatted_key]\n",
    "                if 'geometry' in other_node_data and other_node_data['geometry'].geom_type in ['Polygon', 'MultiPolygon']:\n",
    "                    # Check if its not the same node, it is the same amenity, and is not already in the list to merge\n",
    "                    if node_key != formatted_key and node_data['amenity'] == other_node_data['amenity']:\n",
    "                        distance = degrees_to_meters(node_data['geometry'].distance(other_node_data['geometry']))\n",
    "\n",
    "                        if distance <= max_distance:\n",
    "                            line_between_centroids = LineString([node_data['geometry'].centroid, other_node_data['geometry'].centroid])\n",
    "                            amenities_intersecting = any(graph.nodes[amenity_key]['geometry'].intersects(line_between_centroids) for amenity_key in graph.nodes if amenity_key != node_key and amenity_key != formatted_key and graph.nodes[amenity_key]['amenity'] != node_data['amenity'])\n",
    "                            \n",
    "                            # Check if it does not exceed the max perimeter\n",
    "                            combined_node = shapely.ops.unary_union([combined_node, graph.nodes[formatted_key]['geometry']])\n",
    "                            total_distance += degrees_to_meters(combined_node.length)\n",
    "                            \n",
    "                            if not amenities_intersecting and total_distance < max_perimeter and not find_intersecting_features(line_between_centroids):\n",
    "                                nodes_to_merge.append(formatted_key)\n",
    "            \n",
    "            if nodes_to_merge not in list_to_merge:\n",
    "                list_to_merge.append(nodes_to_merge) # Add to the list to merge the polygons later\n",
    "                \n",
    "            \n",
    "                \n",
    "    temp_graph = to_graph(list_to_merge)\n",
    "    lists = graph_to_list(temp_graph)\n",
    "\n",
    "\n",
    "    # Now we will finally connect all polygons in the list\n",
    "    for merge_list in lists:\n",
    "        first = True\n",
    "        for node_key in merge_list:\n",
    "            if first:\n",
    "                combined_node = graph.nodes[node_key]['geometry']\n",
    "                combined_node_amenity = graph.nodes[node_key]['amenity']\n",
    "                combined_node_key = node_key\n",
    "                combined_node_geometry = graph.nodes[node_key]['geometry']\n",
    "                combined_node_name = graph.nodes[node_key]['name']\n",
    "                combined_node_lat = graph.nodes[node_key]['lat']\n",
    "                combined_node_lon = graph.nodes[node_key]['lon']\n",
    "                combined_node_points = graph.nodes[node_key]['amenity_points']\n",
    "                first = False\n",
    "            else:\n",
    "                combined_node = shapely.ops.unary_union([combined_node_geometry, graph.nodes[node_key]['geometry']])\n",
    "                combined_node_geometry = combined_node\n",
    "                combined_node_name = combine_names(combined_node_name, graph.nodes[node_key].get('name'))\n",
    "                combined_node_lat = combined_node_geometry.centroid.x\n",
    "                combined_node_lon = combined_node_geometry.centroid.x\n",
    "                combined_node_points += graph.nodes[node_key].get('amenity_points', 0)\n",
    "                \n",
    "        combined_graph.add_node(combined_node_key, geometry=combined_node_geometry, name=combined_node_name, lat=combined_node_lat, amenity=combined_node_amenity,\n",
    "                                lon=combined_node_lon, amenity_points=combined_node_points)\n",
    "\n",
    "    return combined_graph\n",
    "\n",
    "# TEMPORARY SOLUTION FOR NULL NAMES\n",
    "def combine_names(name1, name2):\n",
    "    # Combine names ensuring that no null values are included\n",
    "    if isinstance(name1, str) and isinstance(name2, str):\n",
    "        return f\"{name1}, {name2}\"\n",
    "    elif isinstance(name1, str):\n",
    "        return name1\n",
    "    elif isinstance(name2, str):\n",
    "        return name2\n",
    "    else:\n",
    "        return None"
   ]
  },
  {
   "cell_type": "code",
   "execution_count": 14,
   "metadata": {},
   "outputs": [],
   "source": [
    "# To merge duplicates in lists\n",
    "def to_graph(nodes):\n",
    "    G = nx.Graph()\n",
    "    for part in nodes:\n",
    "        G.add_nodes_from(part)\n",
    "        G.add_edges_from(to_edges(part))\n",
    "    return G\n",
    "\n",
    "def to_edges(nodes):\n",
    "    it = iter(nodes)\n",
    "    last = next(it)\n",
    "\n",
    "    for current in it:\n",
    "        yield last, current\n",
    "        last = current\n",
    "        \n",
    "def graph_to_list(G):\n",
    "    connected_components = nx.connected_components(G)\n",
    "    lists = [list(component) for component in connected_components]\n",
    "    return lists"
   ]
  },
  {
   "cell_type": "code",
   "execution_count": 15,
   "metadata": {},
   "outputs": [],
   "source": [
    "# LEVEL 2 - Function to connect zones in a network\n",
    "def create_zone_network(graph, max_distance):\n",
    "    connect_graph = nx.Graph()\n",
    "    network_id = 1\n",
    "    list_to_connect = []\n",
    "    idx = rtree_index.Index()\n",
    "    \n",
    "    for node_key, node_data in graph.nodes.items():\n",
    "        enlarged_polygon = node_data['geometry'].buffer(meters_to_degrees(max_distance))\n",
    "        bounds = enlarged_polygon.bounds\n",
    "        bounds_float = tuple(float(coord) for coord in bounds)\n",
    "        numeric_key = int(node_key.split('_')[1])\n",
    "        idx.insert(numeric_key, bounds_float)\n",
    "    \n",
    "    for node_key, node_data in list(graph.nodes.items()):\n",
    "        if 'geometry' in node_data and node_data['geometry'].geom_type in ['Polygon', 'MultiPolygon']:\n",
    "            connect_nodes = []\n",
    "            \n",
    "            #Check first if it is already in a list of polygons to be connected\n",
    "            for connect_list in list_to_connect:\n",
    "                if node_key in connect_list:\n",
    "                    connect_nodes = connect_list\n",
    "                    break\n",
    "            \n",
    "            # If this is a new node that is not part of any list, add itself to the list for merging later\n",
    "            if not connect_nodes:\n",
    "                connect_nodes.append(node_key)\n",
    "                \n",
    "            # If this is not a residential area that is its own zone\n",
    "            if node_key not in pop_graph or not pop_graph.nodes[node_key]['is_a_zone']:\n",
    "                for other_node_key in idx.intersection(node_data['geometry'].bounds):\n",
    "                    formatted_key = f\"polygon_{other_node_key}\"\n",
    "                    other_node_data = graph.nodes[formatted_key]\n",
    "                    if 'geometry' in other_node_data and other_node_data['geometry'].geom_type in ['Polygon', 'MultiPolygon']:\n",
    "                        if node_key != formatted_key:\n",
    "\n",
    "                            distance = degrees_to_meters(node_data['geometry'].distance(other_node_data['geometry']))\n",
    "\n",
    "                            # Check if they are within distance of each other\n",
    "                            if distance <= max_distance:\n",
    "                                line_between_centroids = LineString([node_data['geometry'].centroid, other_node_data['geometry'].centroid])\n",
    "                                if not find_intersecting_features(line_between_centroids):\n",
    "                                    if formatted_key not in pop_graph or not pop_graph.nodes[formatted_key]['is_a_zone']:\n",
    "                                        connect_nodes.append(formatted_key)\n",
    "                                \n",
    "            if connect_nodes not in list_to_connect:\n",
    "                list_to_connect.append(connect_nodes) # Add to the list to merge the polygons later\n",
    "                \n",
    "    temp_graph = to_graph(list_to_connect)\n",
    "    lists = graph_to_list(temp_graph)\n",
    "\n",
    "    # Now we will finally connect all polygons in the list\n",
    "    for merge_list in lists:\n",
    "        first = True\n",
    "        for node_key in merge_list:\n",
    "            if first:\n",
    "                combined_node = graph.nodes[node_key]['geometry']\n",
    "                combined_node_amenity = graph.nodes[node_key]['amenity']\n",
    "                combined_node_key = node_key\n",
    "                combined_node_geometry = graph.nodes[node_key]['geometry']\n",
    "                combined_node_name = graph.nodes[node_key]['name']\n",
    "                combined_node_lat = graph.nodes[node_key]['lat']\n",
    "                combined_node_lon = graph.nodes[node_key]['lon']\n",
    "                combined_node_points = graph.nodes[node_key]['amenity_points']\n",
    "                first = False\n",
    "            else:\n",
    "                combined_node = shapely.ops.unary_union([combined_node_geometry, graph.nodes[node_key]['geometry']])\n",
    "                combined_node_geometry = combined_node\n",
    "                combined_node_name = combine_names(combined_node_name, graph.nodes[node_key].get('name'))\n",
    "                combined_node_lat = combined_node_geometry.centroid.x\n",
    "                combined_node_lon = combined_node_geometry.centroid.x\n",
    "                combined_node_points += graph.nodes[node_key].get('amenity_points', 0)\n",
    "                \n",
    "        network_id += 1\n",
    "        connect_graph.add_node(combined_node_key, geometry=combined_node_geometry, name=combined_node_name, lat=combined_node_lat, amenity=combined_node_amenity,\n",
    "                                lon=combined_node_lon, amenity_points=combined_node_points, network_id=network_id)\n",
    "\n",
    "    return connect_graph\n",
    "\n",
    "# TEMPORARY SOLUTION FOR NULL NAMES\n",
    "def combine_names(name1, name2):\n",
    "    # Combine names ensuring that no null values are included\n",
    "    if isinstance(name1, str) and isinstance(name2, str):\n",
    "        return f\"{name1}, {name2}\"\n",
    "    elif isinstance(name1, str):\n",
    "        return name1\n",
    "    elif isinstance(name2, str):\n",
    "        return name2\n",
    "    else:\n",
    "        return None"
   ]
  },
  {
   "cell_type": "code",
   "execution_count": 16,
   "metadata": {},
   "outputs": [],
   "source": [
    "\n",
    "# Function to check population density - To be used for the zone connection\n",
    "# Uses the combined graph\n",
    "# Formula: Population Density = Total Population / Total Area\n",
    "\n",
    "def check_residential_population_density(graph, threshold, population_gdf):\n",
    "    # Create an R-tree index for efficient spatial querying\n",
    "    idx = rtree_index.Index()\n",
    "    \n",
    "    # Populate the R-tree index with points\n",
    "    for index, row in population_gdf.iterrows():\n",
    "        idx.insert(index, (row['longitude'], row['latitude'], row['longitude'], row['latitude']))\n",
    "    \n",
    "    pop_graph = nx.Graph()\n",
    "    \n",
    "    for node_key, node_data in graph.nodes.items():\n",
    "        # Check if its a polygon and is a residential area\n",
    "        if 'geometry' in node_data and node_data['geometry'].geom_type in ['Polygon', 'MultiPolygon'] and node_data['amenity'] == \"residential areas\":\n",
    "            total_pop = 0\n",
    "            \n",
    "            # Query the R-tree index to find points within the polygon\n",
    "            for point_idx in idx.intersection(node_data['geometry'].bounds):\n",
    "                point = population_gdf.loc[point_idx]\n",
    "                if Point(point['longitude'], point['latitude']).within(node_data['geometry']):\n",
    "                    total_pop += point['phl_general_2020']  # Add the density\n",
    "            \n",
    "            if total_pop > threshold:\n",
    "                node_data[\"is_a_zone\"] = True\n",
    "            else:\n",
    "                node_data[\"is_a_zone\"] = False\n",
    "            \n",
    "            pop_graph.add_node(node_key, density=total_pop, **node_data)\n",
    "    return pop_graph"
   ]
  },
  {
   "cell_type": "markdown",
   "metadata": {},
   "source": [
    "#### Visualization"
   ]
  },
  {
   "cell_type": "code",
   "execution_count": 17,
   "metadata": {},
   "outputs": [],
   "source": [
    "# 1 - Function to plot/visualize main graph network on the map\n",
    "def plot_network_on_map(amenities_network, initial_location=[0, 0], zoom_start=10):\n",
    "    # Create a map centered at the initial location\n",
    "    map_center = (14.599512, 120.984222) # TEMPORARY WILL ZOOM TO MANILA\n",
    "    m = folium.Map(location=map_center, zoom_start=zoom_start, tiles='openstreetmap')\n",
    "    \n",
    "    #Colours for Visualization\n",
    "    amenity_colors = {\n",
    "        'education': 'green',\n",
    "        'finance': 'blue',\n",
    "        'government offices': 'red',\n",
    "        'government areas': 'red',\n",
    "        'government' : 'red',\n",
    "        'grocery': 'orange',\n",
    "        'health': 'magenta',\n",
    "        'malls': 'yellow',\n",
    "        'residential areas': 'brown',\n",
    "        'security': 'gray',\n",
    "        'transportation': 'lightblue',\n",
    "        'groceries' : 'indigo',\n",
    "        'mall' : 'violet',\n",
    "        'others': 'black'\n",
    "    }\n",
    "\n",
    "    # Iterate over the nodes in the network\n",
    "    for node, data in amenities_network.nodes(data=True):\n",
    "        # Check if the node has a geometry attribute\n",
    "        if 'geometry' in data:\n",
    "            # Get the geometry of the node\n",
    "            geometry = data['geometry']\n",
    "\n",
    "            # Check the geometry type and plot accordingly\n",
    "            if geometry.geom_type == 'Point':\n",
    "                # Plot a marker for points    \n",
    "                #folium.Marker(location=[geometry.y, geometry.x], popup=f\"{data['name']}\").add_to(m)\n",
    "                continue\n",
    "            elif geometry.geom_type in ['Polygon', 'MultiPolygon']:\n",
    "                # Plot polygons or multipolygons\n",
    "                color = amenity_colors[data.get('amenity')]\n",
    "                if geometry.geom_type == 'Polygon':\n",
    "                    polygons = [geometry]\n",
    "                else:\n",
    "                    polygons = geometry.geoms\n",
    "\n",
    "                for polygon in polygons:\n",
    "                    coordinates = []\n",
    "                    for point in polygon.exterior.coords:\n",
    "                        coordinates.append([point[1], point[0]])\n",
    "                    folium.Polygon(locations=coordinates, fill=True, color=color, fill_opacity=0.4).add_to(m)\n",
    "\n",
    "    # Return the map\n",
    "    return m\n"
   ]
  },
  {
   "cell_type": "code",
   "execution_count": 18,
   "metadata": {},
   "outputs": [],
   "source": [
    "# This is to visualize the stops\n",
    "def plot_stops_on_map(network_map, stops, initial_location=[0, 0], zoom_start=10):\n",
    "    # Iterate over the nodes in the network\n",
    "    for stop in stops:\n",
    "        folium.Marker(location=[stop.lat, stop.long], popup=f\"{stop.isTranspo}\").add_to(network_map)\n",
    "        \n",
    "    return network_map"
   ]
  },
  {
   "cell_type": "code",
   "execution_count": 19,
   "metadata": {},
   "outputs": [],
   "source": [
    "# 2 - Function to plot/visualize connected zones on the map\n",
    "import random\n",
    "\n",
    "# This is to better visualize the networks\n",
    "def plot_connected_zones_network_on_map(graph, initial_location=[0, 0], zoom_start=10):\n",
    "    # Create a map centered at the initial location\n",
    "    map_center = (14.599512, 120.984222) # TEMPORARY WILL ZOOM TO MANILA\n",
    "    m = folium.Map(location=map_center, zoom_start=zoom_start, tiles='openstreetmap')\n",
    "    \n",
    "    #Colours for Visualization\n",
    "    colors = [\n",
    "    \"Red\", \"Green\", \"Blue\", \"Yellow\", \"Orange\", \"Purple\", \"Cyan\", \"Magenta\", \"Maroon\",\n",
    "    \"Olive\", \"Lime\", \"Teal\", \"Navy\", \"Aqua\", \"Fuchsia\", \"Coral\", \"Indigo\", \"Violet\"]\n",
    "    \n",
    "    color_map = {}\n",
    "\n",
    "    # Iterate over the nodes in the network\n",
    "    for node, data in graph.nodes(data=True):\n",
    "        # Check if the node has a geometry attribute\n",
    "        if 'geometry' in data:\n",
    "            # Get the geometry of the node\n",
    "            geometry = data['geometry']\n",
    "\n",
    "            # Check the geometry type and plot accordingly\n",
    "            if geometry.geom_type == 'Point':\n",
    "                # Plot a marker for points    \n",
    "                #folium.Marker(location=[geometry.y, geometry.x], popup=f\"{data['name']}\").add_to(m)\n",
    "                continue\n",
    "            elif geometry.geom_type in ['Polygon', 'MultiPolygon']:\n",
    "                \n",
    "                network_id = data[\"network_id\"]\n",
    "                \n",
    "                if network_id not in color_map:\n",
    "                    color = random.choice(colors)\n",
    "                    color_map[network_id] = color\n",
    "                else:\n",
    "                    color = color_map[network_id]\n",
    "                \n",
    "                if geometry.geom_type == 'Polygon':\n",
    "                    polygons = [geometry]\n",
    "                else:\n",
    "                    polygons = geometry.geoms\n",
    "\n",
    "                for polygon in polygons:\n",
    "                    coordinates = []\n",
    "                    for point in polygon.exterior.coords:\n",
    "                        coordinates.append([point[1], point[0]])\n",
    "                    folium.Polygon(locations=coordinates, fill=True, color=color, fill_opacity=0.4).add_to(m)\n",
    "\n",
    "    # Return the map\n",
    "    return m\n"
   ]
  },
  {
   "cell_type": "code",
   "execution_count": 20,
   "metadata": {},
   "outputs": [],
   "source": [
    "# 2.5 - Function to plot/visualize residential areas based on population density on the map\n",
    "# This is to better visualize which residential areas can become zones\n",
    "def plot_population_zones_map(graph, initial_location=[0, 0], zoom_start=10):\n",
    "    # Create a map centered at the initial location\n",
    "    map_center = (14.599512, 120.984222) # TEMPORARY WILL ZOOM TO MANILA\n",
    "    m = folium.Map(location=map_center, zoom_start=zoom_start, tiles='openstreetmap')\n",
    "\n",
    "    # Iterate over the nodes in the network\n",
    "    for node, data in graph.nodes(data=True):\n",
    "        # Check if the node has a geometry attribute\n",
    "        if 'geometry' in data:\n",
    "            # Get the geometry of the node\n",
    "            geometry = data['geometry']\n",
    "\n",
    "            # Check the geometry type and plot accordingly\n",
    "            if geometry.geom_type == 'Point':\n",
    "                # Plot a marker for points    \n",
    "                #folium.Marker(location=[geometry.y, geometry.x], popup=f\"{data['name']}\").add_to(m)\n",
    "                continue\n",
    "            elif geometry.geom_type in ['Polygon', 'MultiPolygon']:\n",
    "                if geometry.geom_type == 'Polygon':\n",
    "                    polygons = [geometry]\n",
    "                else:\n",
    "                    polygons = geometry.geoms\n",
    "\n",
    "                for polygon in polygons:\n",
    "                    coordinates = []\n",
    "                    for point in polygon.exterior.coords:\n",
    "                        coordinates.append([point[1], point[0]])\n",
    "                    \n",
    "                    if (data['is_a_zone']):\n",
    "                        folium.Polygon(locations=coordinates, fill=True, color=\"green\", fill_opacity=0.4).add_to(m)\n",
    "                    else:\n",
    "                        folium.Polygon(locations=coordinates, fill=True, color=\"red\", fill_opacity=0.4).add_to(m)\n",
    "\n",
    "    # Return the map\n",
    "    return m"
   ]
  },
  {
   "cell_type": "markdown",
   "metadata": {},
   "source": [
    "## -- RUN CITIES BELOW --"
   ]
  },
  {
   "cell_type": "markdown",
   "metadata": {},
   "source": [
    "## Manila Test"
   ]
  },
  {
   "cell_type": "markdown",
   "metadata": {},
   "source": [
    "### Reading Data"
   ]
  },
  {
   "cell_type": "code",
   "execution_count": 21,
   "metadata": {},
   "outputs": [],
   "source": [
    "# READING DATA (All Amenities in Manila)\n",
    "merged_amenities_points_gdf = gpd.read_file('./City Data/Manila City/Manila_point.geojson')\n",
    "merged_amenities_polygons_gdf= gpd.read_file('././City Data/Manila City/Manila_polygon.geojson')\n",
    "\n",
    "merged_amenities_polygons_gdf['amenity_points'] = None"
   ]
  },
  {
   "cell_type": "code",
   "execution_count": 22,
   "metadata": {},
   "outputs": [
    {
     "name": "stderr",
     "output_type": "stream",
     "text": [
      "/var/folders/q0/zbq8f0v11vb5hv6jh21spfwm0000gn/T/ipykernel_4045/2666581131.py:2: UserWarning: Geometry is in a geographic CRS. Results from 'area' are likely incorrect. Use 'GeoSeries.to_crs()' to re-project geometries to a projected CRS before this operation.\n",
      "\n",
      "  merged_amenities_polygons_gdf['area'] = degrees_to_meters(merged_amenities_polygons_gdf['geometry'].area)\n"
     ]
    },
    {
     "data": {
      "text/plain": [
       "135.26544097431915"
      ]
     },
     "execution_count": 22,
     "metadata": {},
     "output_type": "execute_result"
    }
   ],
   "source": [
    "# Getting total area to be used for the area connection type\n",
    "merged_amenities_polygons_gdf['area'] = degrees_to_meters(merged_amenities_polygons_gdf['geometry'].area)\n",
    "manila_area_sum = merged_amenities_polygons_gdf['area'].sum()\n",
    "\n",
    "manila_area_sum"
   ]
  },
  {
   "cell_type": "code",
   "execution_count": 23,
   "metadata": {},
   "outputs": [],
   "source": [
    "# Create spatial index for points\n",
    "idx = rtree_index.Index()\n",
    "for j, point in merged_amenities_points_gdf.iterrows():\n",
    "    idx.insert(j, point['geometry'].bounds)\n",
    "\n",
    "# Iterate over polygons\n",
    "for i, polygon in merged_amenities_polygons_gdf.iterrows():\n",
    "    points_within_polygon = []\n",
    "    \n",
    "    # Iterate over points within the bounding box of the polygon\n",
    "    for j in idx.intersection(polygon['geometry'].bounds):\n",
    "        point = merged_amenities_points_gdf.loc[j]\n",
    "        if polygon['geometry'].intersects(point['geometry']):\n",
    "            points_within_polygon.append(j)\n",
    "    \n",
    "    merged_amenities_polygons_gdf.at[i, 'amenity_points'] = points_within_polygon"
   ]
  },
  {
   "cell_type": "markdown",
   "metadata": {},
   "source": [
    "### Creating the Zones"
   ]
  },
  {
   "cell_type": "code",
   "execution_count": null,
   "metadata": {},
   "outputs": [],
   "source": [
    "Manila_pikl_filepath = \"Saved Networks/Manila/\"\n",
    "Manila_map_filepath = \"Saved Maps/Manila/\""
   ]
  },
  {
   "cell_type": "code",
   "execution_count": null,
   "metadata": {},
   "outputs": [],
   "source": [
    "# CREATING INITIAL NETWORK\n",
    "\n",
    "merged_amenities_network_Manila = create_network(merged_amenities_polygons_gdf, merged_amenities_points_gdf)\n",
    "\n",
    "# Make a before map\n",
    "merge_map_Manila = plot_network_on_map(merged_amenities_network_Manila, initial_location=[0, 0], zoom_start=100)\n",
    "merge_map_Manila.save(f'{Manila_map_filepath}merge_map.html') # Save the map to an HTML file\n",
    "\n",
    "# EXPORTING THE INITIAL MANILA NETWORK GRAPH\n",
    "path = f'{Manila_pikl_filepath}Manila_Initial_Network.pkl'\n",
    "export_networks(merged_amenities_network_Manila, path)"
   ]
  },
  {
   "cell_type": "code",
   "execution_count": null,
   "metadata": {},
   "outputs": [],
   "source": [
    "# LEVEL 0.5 - FILTERING OUT RESIDENTIAL AREAS THAT HAVE LOW POPULATION DENSITY\n",
    "threshold = 120\n",
    "filter_residential_graph = check_residential_population_density(merged_amenities_network_Manila, threshold, manila_population_gdf)\n",
    "filtered_manila_amenities_network = filter_out_low_population_density_residentials(merged_amenities_network_Manila, filter_residential_graph)\n",
    "\n",
    "# Make an after map for the filtered manila amenities network (Filtered residential areas)\n",
    "after_residential_filter_map = plot_network_on_map(filtered_manila_amenities_network, initial_location=[0, 0], zoom_start=100)\n",
    "after_residential_filter_map.save(f'{Manila_map_filepath}residential_filter.html') # Save the map to an HTML file\n",
    "\n",
    "# EXPORTING THE MANILA POPULATION GRAPH\n",
    "path = f'{Manila_pikl_filepath}Manila_Population_Graph.pkl'\n",
    "export_networks(filter_residential_graph, path)\n",
    "\n",
    "# EXPORTING THE FILTERED MANILA NETWORK GRAPH\n",
    "path = f'{Manila_pikl_filepath}Manila_Filtered_Network.pkl'\n",
    "export_networks(filtered_manila_amenities_network, path)"
   ]
  },
  {
   "cell_type": "code",
   "execution_count": null,
   "metadata": {},
   "outputs": [],
   "source": [
    "# LEVEL 1 - CONNECTING POLYGONS OF SAME AMENITY\n",
    "\n",
    "connected_lines = []\n",
    "combined_graph_Manila = combine_amenities_by_polygon(filtered_manila_amenities_network, max_distance=100, max_perimeter=10000)\n",
    "after_map = plot_network_on_map(combined_graph_Manila, initial_location=[0, 0], zoom_start=100)\n",
    "\n",
    "\n",
    "# The lines to show the networks\n",
    "for line in connected_lines:\n",
    "    line_coords = [[coord[1], coord[0]] for coord in line.coords]\n",
    "    folium.PolyLine(locations=line_coords, color='black').add_to(after_map)\n",
    "after_map.save(f'{Manila_map_filepath}after_map.html') # Save the map to an HTML file\n",
    "\n",
    "# EXPORTING THE LEVEL 1 GRAPH\n",
    "path = f'{Manila_pikl_filepath}Manila_Combined_Amenities_Network.pkl'\n",
    "export_networks(combined_graph_Manila, path)"
   ]
  },
  {
   "cell_type": "code",
   "execution_count": null,
   "metadata": {},
   "outputs": [],
   "source": [
    "pop_graph = check_residential_population_density(combined_graph_Manila, 100, manila_population_gdf)\n",
    "pop_map = plot_population_zones_map(pop_graph, initial_location=[0, 0], zoom_start=100)"
   ]
  },
  {
   "cell_type": "code",
   "execution_count": null,
   "metadata": {},
   "outputs": [],
   "source": [
    "# LEVEL 2 - CREATING NETWORKS OF AMENITIES\n",
    "\n",
    "graph_networks_of_polygons_Manila = create_zone_network(graph=combined_graph_Manila, max_distance=100)\n",
    "networks_map_Manila = plot_connected_zones_network_on_map(graph_networks_of_polygons_Manila, initial_location=[0, 0], zoom_start=100)\n",
    "networks_map_Manila.save(f'{Manila_map_filepath}networks_map.html') # Save the map to an HTML file\n",
    "\n",
    "# EXPORTING THE LEVEL 2 GRAPH\n",
    "path = f'{Manila_pikl_filepath}Manila_Zone_Network.pkl'\n",
    "export_networks(graph_networks_of_polygons_Manila, path)"
   ]
  },
  {
   "cell_type": "markdown",
   "metadata": {},
   "source": [
    "## Makati Test"
   ]
  },
  {
   "cell_type": "markdown",
   "metadata": {},
   "source": [
    "### Reading Data"
   ]
  },
  {
   "cell_type": "code",
   "execution_count": null,
   "metadata": {},
   "outputs": [],
   "source": [
    "# READING DATA (All Amenities in Makati)\n",
    "Makati_amenities_points_gdf = gpd.read_file('./City Data/Makati City/Makati_point.geojson', crs='epsg:3123')\n",
    "Makati_amenities_polygons_gdf = gpd.read_file('././City Data/Makati City/Makati_polygon.geojson', crs='epsg:3123')\n",
    "\n",
    "Makati_amenities_polygons_gdf['amenity_points'] = None"
   ]
  },
  {
   "cell_type": "code",
   "execution_count": null,
   "metadata": {},
   "outputs": [],
   "source": [
    "# Getting total area to be used for the area connection type\n",
    "Makati_amenities_polygons_gdf['area'] = degrees_to_meters(Makati_amenities_polygons_gdf['geometry'].area)\n",
    "makati_area_sum = Makati_amenities_polygons_gdf['area'].sum()\n",
    "\n",
    "makati_area_sum"
   ]
  },
  {
   "cell_type": "code",
   "execution_count": null,
   "metadata": {},
   "outputs": [],
   "source": [
    "# Create spatial index for points\n",
    "idx = rtree_index.Index()\n",
    "for j, point in Makati_amenities_points_gdf.iterrows():\n",
    "    idx.insert(j, point['geometry'].bounds)\n",
    "\n",
    "# Iterate over polygons\n",
    "for i, polygon in Makati_amenities_polygons_gdf.iterrows():\n",
    "    points_within_polygon = []\n",
    "    \n",
    "    # Iterate over points within the bounding box of the polygon\n",
    "    for j in idx.intersection(polygon['geometry'].bounds):\n",
    "        point = Makati_amenities_points_gdf.loc[j]\n",
    "        if polygon['geometry'].intersects(point['geometry']):\n",
    "            points_within_polygon.append(j)\n",
    "    \n",
    "    Makati_amenities_polygons_gdf.at[i, 'amenity_points'] = points_within_polygon"
   ]
  },
  {
   "cell_type": "markdown",
   "metadata": {},
   "source": [
    "### Creating the Zones"
   ]
  },
  {
   "cell_type": "code",
   "execution_count": null,
   "metadata": {},
   "outputs": [],
   "source": [
    "Makati_pikl_filepath = \"Saved Networks/Makati/\"\n",
    "Makati_map_filepath = \"Saved Maps/Makati/\""
   ]
  },
  {
   "cell_type": "code",
   "execution_count": null,
   "metadata": {},
   "outputs": [],
   "source": [
    "# CREATING INITIAL NETWORK\n",
    "\n",
    "merged_amenities_network_Makati = create_network(Makati_amenities_polygons_gdf, Makati_amenities_points_gdf)\n",
    "\n",
    "# Make a before map\n",
    "merge_map_Makati = plot_network_on_map(merged_amenities_network_Makati, initial_location=[0, 0], zoom_start=100)\n",
    "merge_map_Makati.save(f'{Makati_map_filepath}merge_map.html') # Save the map to an HTML file\n",
    "\n",
    "# EXPORTING THE INITIAL MAKATI NETWORK GRAPH\n",
    "path = f'{Makati_pikl_filepath}Makati_Initial_Network.pkl'\n",
    "export_networks(merged_amenities_network_Makati, path)"
   ]
  },
  {
   "cell_type": "code",
   "execution_count": null,
   "metadata": {},
   "outputs": [],
   "source": [
    "# LEVEL 1 - CONNECTING POLYGONS OF SAME AMENITY\n",
    "\n",
    "connected_lines = []\n",
    "combined_graph_Makati = combine_amenities_by_polygon(merged_amenities_network_Makati, max_distance=100, max_perimeter=10000)\n",
    "after_map = plot_network_on_map(combined_graph_Makati, initial_location=[0, 0], zoom_start=100)\n",
    "\n",
    "\n",
    "# The lines to show the networks\n",
    "for line in connected_lines:\n",
    "    line_coords = [[coord[1], coord[0]] for coord in line.coords]\n",
    "    folium.PolyLine(locations=line_coords, color='black').add_to(after_map)\n",
    "after_map.save(f'{Makati_map_filepath}after_map.html') # Save the map to an HTML file\n",
    "\n",
    "# EXPORTING THE LEVEL 1 GRAPH\n",
    "path = f'{Makati_pikl_filepath}Makati_Combined_Amenities_Network.pkl'\n",
    "export_networks(combined_graph_Makati, path)"
   ]
  },
  {
   "cell_type": "code",
   "execution_count": null,
   "metadata": {},
   "outputs": [],
   "source": [
    "combined_graph_Makati = import_networks(f'{Makati_pikl_filepath}Makati_Combined_Amenities_Network.pkl')\n",
    "\n",
    "pop_graph = check_residential_population_density(combined_graph_Makati, 100, makati_population_gdf)\n",
    "pop_map = plot_population_zones_map(pop_graph, initial_location=[0, 0], zoom_start=100)\n",
    "\n",
    "# EXPORTING THE MAKATI POPULATION GRAPH\n",
    "path = f'{Makati_pikl_filepath}Makati_Population_Graph.pkl'\n",
    "export_networks(pop_graph, path)"
   ]
  },
  {
   "cell_type": "code",
   "execution_count": null,
   "metadata": {},
   "outputs": [],
   "source": [
    "# LEVEL 2 - CREATING NETWORKS OF AMENITIES\n",
    "\n",
    "graph_networks_of_polygons_Makati= create_zone_network(graph=combined_graph_Makati, max_distance=100)\n",
    "networks_map_Makati = plot_connected_zones_network_on_map(graph_networks_of_polygons_Makati, initial_location=[0, 0], zoom_start=100)\n",
    "networks_map_Makati.save(f'{Makati_map_filepath}networks_map.html') # Save the map to an HTML file\n",
    "\n",
    "# EXPORTING THE LEVEL 2 GRAPH\n",
    "path = f'{Makati_pikl_filepath}Makati_Zone_Network.pkl'\n",
    "export_networks(graph_networks_of_polygons_Makati, path)"
   ]
  },
  {
   "cell_type": "markdown",
   "metadata": {},
   "source": [
    "## Mandaluyong Test"
   ]
  },
  {
   "cell_type": "markdown",
   "metadata": {},
   "source": [
    "### Reading Data"
   ]
  },
  {
   "cell_type": "code",
   "execution_count": null,
   "metadata": {},
   "outputs": [],
   "source": [
    "# READING DATA (All Amenities in Mandaluyong)\n",
    "Mandaluyong_amenities_points_gdf = gpd.read_file('./City Data/Mandaluyong City/Mandaluyong_point.geojson', crs='epsg:3123')\n",
    "Mandaluyong_amenities_polygons_gdf = gpd.read_file('././City Data/Mandaluyong City/Mandaluyong_polygon.geojson', crs='epsg:3123')\n",
    "\n",
    "Mandaluyong_amenities_polygons_gdf['amenity_points'] = None"
   ]
  },
  {
   "cell_type": "code",
   "execution_count": null,
   "metadata": {},
   "outputs": [],
   "source": [
    "Mandaluyong_amenities_polygons_gdf['area'] = degrees_to_meters(Mandaluyong_amenities_polygons_gdf['geometry'].area)\n",
    "mandaluyong_area_sum = Mandaluyong_amenities_polygons_gdf['area'].sum()\n",
    "\n",
    "mandaluyong_area_sum"
   ]
  },
  {
   "cell_type": "code",
   "execution_count": null,
   "metadata": {},
   "outputs": [],
   "source": [
    "# Create spatial index for points\n",
    "idx = rtree_index.Index()\n",
    "for j, point in Mandaluyong_amenities_points_gdf.iterrows():\n",
    "    idx.insert(j, point['geometry'].bounds)\n",
    "\n",
    "# Iterate over polygons\n",
    "for i, polygon in Mandaluyong_amenities_polygons_gdf.iterrows():\n",
    "    points_within_polygon = []\n",
    "    \n",
    "    # Iterate over points within the bounding box of the polygon\n",
    "    for j in idx.intersection(polygon['geometry'].bounds):\n",
    "        point = Mandaluyong_amenities_points_gdf.loc[j]\n",
    "        if polygon['geometry'].intersects(point['geometry']):\n",
    "            points_within_polygon.append(j)\n",
    "    \n",
    "    Mandaluyong_amenities_polygons_gdf.at[i, 'amenity_points'] = points_within_polygon"
   ]
  },
  {
   "cell_type": "markdown",
   "metadata": {},
   "source": [
    "### Creating the Zones"
   ]
  },
  {
   "cell_type": "code",
   "execution_count": null,
   "metadata": {},
   "outputs": [],
   "source": [
    "Mandaluyong_pikl_filepath = \"Saved Networks/Mandaluyong/\"\n",
    "Mandaluyong_map_filepath = \"Saved Maps/Mandaluyong/\""
   ]
  },
  {
   "cell_type": "code",
   "execution_count": null,
   "metadata": {},
   "outputs": [],
   "source": [
    "# CREATING INITIAL NETWORK\n",
    "\n",
    "merged_amenities_network_Mandaluyong = create_network(Mandaluyong_amenities_polygons_gdf, Mandaluyong_amenities_points_gdf)\n",
    "\n",
    "# Make a before map\n",
    "merge_map_Mandaluyong = plot_network_on_map(merged_amenities_network_Mandaluyong, initial_location=[0, 0], zoom_start=100)\n",
    "merge_map_Mandaluyong.save(f'{Mandaluyong_map_filepath}merge_map.html') # Save the map to an HTML file\n",
    "\n",
    "# EXPORTING THE INITIAL MANDALUYONG NETWORK GRAPH\n",
    "path = f'{Mandaluyong_pikl_filepath}Mandaluyong_Initial_Network.pkl'\n",
    "export_networks(merged_amenities_network_Mandaluyong, path)"
   ]
  },
  {
   "cell_type": "code",
   "execution_count": null,
   "metadata": {},
   "outputs": [],
   "source": [
    "# LEVEL 1 - CONNECTING POLYGONS OF SAME AMENITY\n",
    "\n",
    "connected_lines = []\n",
    "combined_graph_Mandaluyong = combine_amenities_by_polygon(merged_amenities_network_Mandaluyong, max_distance=100, max_perimeter=10000)\n",
    "after_map = plot_network_on_map(combined_graph_Mandaluyong, initial_location=[0, 0], zoom_start=100)\n",
    "\n",
    "\n",
    "# The lines to show the networks\n",
    "for line in connected_lines:\n",
    "    line_coords = [[coord[1], coord[0]] for coord in line.coords]\n",
    "    folium.PolyLine(locations=line_coords, color='black').add_to(after_map)\n",
    "after_map.save(f'{Mandaluyong_map_filepath}after_map.html') # Save the map to an HTML file\n",
    "\n",
    "# EXPORTING THE LEVEL 1 GRAPH\n",
    "path = f'{Mandaluyong_pikl_filepath}Mandaluyong_Combined_Amenities_Network.pkl'\n",
    "export_networks(combined_graph_Mandaluyong, path)"
   ]
  },
  {
   "cell_type": "code",
   "execution_count": null,
   "metadata": {},
   "outputs": [],
   "source": [
    "combined_graph_Mandaluyong = import_networks(f'{Mandaluyong_pikl_filepath}Mandaluyong_Combined_Amenities_Network.pkl')\n",
    "\n",
    "pop_graph = check_residential_population_density(combined_graph_Mandaluyong, 100, mandaluyong_population_gdf)\n",
    "pop_map = plot_population_zones_map(pop_graph, initial_location=[0, 0], zoom_start=100)\n",
    "\n",
    "# EXPORTING THE MANDALUYONG POPULATION GRAPH\n",
    "path = f'{Mandaluyong_pikl_filepath}Mandaluyong_Population_Graph.pkl'\n",
    "export_networks(pop_graph, path)"
   ]
  },
  {
   "cell_type": "code",
   "execution_count": null,
   "metadata": {},
   "outputs": [],
   "source": [
    "# LEVEL 2 - CREATING NETWORKS OF AMENITIES\n",
    "\n",
    "graph_networks_of_polygons_Mandaluyong= create_zone_network(graph=combined_graph_Mandaluyong, max_distance=100)\n",
    "networks_map_Mandaluyong = plot_connected_zones_network_on_map(graph_networks_of_polygons_Mandaluyong, initial_location=[0, 0], zoom_start=100)\n",
    "networks_map_Mandaluyong.save(f'{Mandaluyong_map_filepath}networks_map.html') # Save the map to an HTML file\n",
    "\n",
    "# EXPORTING THE LEVEL 2 GRAPH\n",
    "path = f'{Mandaluyong_pikl_filepath}Mandaluyong_Zone_Network.pkl'\n",
    "export_networks(graph_networks_of_polygons_Mandaluyong, path)"
   ]
  },
  {
   "cell_type": "markdown",
   "metadata": {},
   "source": [
    "## TEST"
   ]
  },
  {
   "cell_type": "code",
   "execution_count": 25,
   "metadata": {},
   "outputs": [],
   "source": [
    "# Create a Folium map centered around the city\n",
    "map_center = (14.599512, 120.984222)\n",
    "m = folium.Map(location=map_center, zoom_start=10, tiles='openstreetmap')\n",
    "\n",
    "# Add point nodes\n",
    "for index, row in merged_amenities_points_gdf.iterrows():\n",
    "    # Check if essential columns exist in the row\n",
    "    if row['amenity'] == \"transportation\":\n",
    "        folium.CircleMarker(location=(row['y'], row['x']),\n",
    "                        radius=1,\n",
    "                        color='red',\n",
    "                        fill=True,\n",
    "                        fill_color='red').add_to(m)\n",
    "        \n",
    "# Save the map to an HTML file\n",
    "m.save(\"map_with_transpo.html\")"
   ]
  }
 ],
 "metadata": {
  "kernelspec": {
   "display_name": "Python 3",
   "language": "python",
   "name": "python3"
  },
  "language_info": {
   "codemirror_mode": {
    "name": "ipython",
    "version": 3
   },
   "file_extension": ".py",
   "mimetype": "text/x-python",
   "name": "python",
   "nbconvert_exporter": "python",
   "pygments_lexer": "ipython3",
   "version": "3.12.1"
  }
 },
 "nbformat": 4,
 "nbformat_minor": 2
}
